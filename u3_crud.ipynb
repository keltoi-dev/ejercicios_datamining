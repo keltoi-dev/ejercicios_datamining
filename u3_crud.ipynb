{
 "cells": [
  {
   "cell_type": "markdown",
   "metadata": {},
   "source": [
    "CRUD - Pandas"
   ]
  },
  {
   "cell_type": "code",
   "execution_count": 1,
   "metadata": {},
   "outputs": [],
   "source": [
    "import pandas as pd\n",
    "\n",
    "datos={\n",
    "    \"nombre\":[\"Anna\", \"Josefa\", \"Cecilia\", \"José\", \"Pablo\"],\n",
    "    \"edad\":[49, 76, 24, 32, 37],\n",
    "    \"sexo\":[\"f\", \"f\", \"f\", \"m\", \"m\"],\n",
    "    \"salario\":[3000, 4000, 2000, 5000, 1300],\n",
    "    \"telefono\":[1111111, 2222222, 3333333, 4444444, 5555555]\n",
    "}"
   ]
  },
  {
   "cell_type": "code",
   "execution_count": 2,
   "metadata": {},
   "outputs": [
    {
     "data": {
      "text/html": [
       "<div>\n",
       "<style scoped>\n",
       "    .dataframe tbody tr th:only-of-type {\n",
       "        vertical-align: middle;\n",
       "    }\n",
       "\n",
       "    .dataframe tbody tr th {\n",
       "        vertical-align: top;\n",
       "    }\n",
       "\n",
       "    .dataframe thead th {\n",
       "        text-align: right;\n",
       "    }\n",
       "</style>\n",
       "<table border=\"1\" class=\"dataframe\">\n",
       "  <thead>\n",
       "    <tr style=\"text-align: right;\">\n",
       "      <th></th>\n",
       "      <th>nombre</th>\n",
       "      <th>edad</th>\n",
       "      <th>sexo</th>\n",
       "      <th>salario</th>\n",
       "      <th>telefono</th>\n",
       "    </tr>\n",
       "  </thead>\n",
       "  <tbody>\n",
       "    <tr>\n",
       "      <th>0</th>\n",
       "      <td>Anna</td>\n",
       "      <td>49</td>\n",
       "      <td>f</td>\n",
       "      <td>3000</td>\n",
       "      <td>1111111</td>\n",
       "    </tr>\n",
       "    <tr>\n",
       "      <th>1</th>\n",
       "      <td>Josefa</td>\n",
       "      <td>76</td>\n",
       "      <td>f</td>\n",
       "      <td>4000</td>\n",
       "      <td>2222222</td>\n",
       "    </tr>\n",
       "    <tr>\n",
       "      <th>2</th>\n",
       "      <td>Cecilia</td>\n",
       "      <td>24</td>\n",
       "      <td>f</td>\n",
       "      <td>2000</td>\n",
       "      <td>3333333</td>\n",
       "    </tr>\n",
       "    <tr>\n",
       "      <th>3</th>\n",
       "      <td>José</td>\n",
       "      <td>32</td>\n",
       "      <td>m</td>\n",
       "      <td>5000</td>\n",
       "      <td>4444444</td>\n",
       "    </tr>\n",
       "    <tr>\n",
       "      <th>4</th>\n",
       "      <td>Pablo</td>\n",
       "      <td>37</td>\n",
       "      <td>m</td>\n",
       "      <td>1300</td>\n",
       "      <td>5555555</td>\n",
       "    </tr>\n",
       "  </tbody>\n",
       "</table>\n",
       "</div>"
      ],
      "text/plain": [
       "    nombre  edad sexo  salario  telefono\n",
       "0     Anna    49    f     3000   1111111\n",
       "1   Josefa    76    f     4000   2222222\n",
       "2  Cecilia    24    f     2000   3333333\n",
       "3     José    32    m     5000   4444444\n",
       "4    Pablo    37    m     1300   5555555"
      ]
     },
     "execution_count": 2,
     "metadata": {},
     "output_type": "execute_result"
    }
   ],
   "source": [
    "# Creacion\n",
    "df=pd.DataFrame(datos)\n",
    "df"
   ]
  },
  {
   "cell_type": "code",
   "execution_count": 4,
   "metadata": {},
   "outputs": [
    {
     "data": {
      "text/plain": [
       "0    167\n",
       "1    154\n",
       "2    171\n",
       "3    181\n",
       "4    192\n",
       "dtype: int64"
      ]
     },
     "execution_count": 4,
     "metadata": {},
     "output_type": "execute_result"
    }
   ],
   "source": [
    "# Modificacion\n",
    "altura=pd.Series([167, 154, 171, 181, 192])\n",
    "altura"
   ]
  },
  {
   "cell_type": "code",
   "execution_count": 5,
   "metadata": {},
   "outputs": [],
   "source": [
    "df[\"altura\"]=altura"
   ]
  },
  {
   "cell_type": "code",
   "execution_count": 6,
   "metadata": {},
   "outputs": [
    {
     "data": {
      "text/html": [
       "<div>\n",
       "<style scoped>\n",
       "    .dataframe tbody tr th:only-of-type {\n",
       "        vertical-align: middle;\n",
       "    }\n",
       "\n",
       "    .dataframe tbody tr th {\n",
       "        vertical-align: top;\n",
       "    }\n",
       "\n",
       "    .dataframe thead th {\n",
       "        text-align: right;\n",
       "    }\n",
       "</style>\n",
       "<table border=\"1\" class=\"dataframe\">\n",
       "  <thead>\n",
       "    <tr style=\"text-align: right;\">\n",
       "      <th></th>\n",
       "      <th>nombre</th>\n",
       "      <th>edad</th>\n",
       "      <th>sexo</th>\n",
       "      <th>salario</th>\n",
       "      <th>telefono</th>\n",
       "      <th>altura</th>\n",
       "    </tr>\n",
       "  </thead>\n",
       "  <tbody>\n",
       "    <tr>\n",
       "      <th>0</th>\n",
       "      <td>Anna</td>\n",
       "      <td>49</td>\n",
       "      <td>f</td>\n",
       "      <td>3000</td>\n",
       "      <td>1111111</td>\n",
       "      <td>167</td>\n",
       "    </tr>\n",
       "    <tr>\n",
       "      <th>1</th>\n",
       "      <td>Josefa</td>\n",
       "      <td>76</td>\n",
       "      <td>f</td>\n",
       "      <td>4000</td>\n",
       "      <td>2222222</td>\n",
       "      <td>154</td>\n",
       "    </tr>\n",
       "    <tr>\n",
       "      <th>2</th>\n",
       "      <td>Cecilia</td>\n",
       "      <td>24</td>\n",
       "      <td>f</td>\n",
       "      <td>2000</td>\n",
       "      <td>3333333</td>\n",
       "      <td>171</td>\n",
       "    </tr>\n",
       "    <tr>\n",
       "      <th>3</th>\n",
       "      <td>José</td>\n",
       "      <td>32</td>\n",
       "      <td>m</td>\n",
       "      <td>5000</td>\n",
       "      <td>4444444</td>\n",
       "      <td>181</td>\n",
       "    </tr>\n",
       "    <tr>\n",
       "      <th>4</th>\n",
       "      <td>Pablo</td>\n",
       "      <td>37</td>\n",
       "      <td>m</td>\n",
       "      <td>1300</td>\n",
       "      <td>5555555</td>\n",
       "      <td>192</td>\n",
       "    </tr>\n",
       "  </tbody>\n",
       "</table>\n",
       "</div>"
      ],
      "text/plain": [
       "    nombre  edad sexo  salario  telefono  altura\n",
       "0     Anna    49    f     3000   1111111     167\n",
       "1   Josefa    76    f     4000   2222222     154\n",
       "2  Cecilia    24    f     2000   3333333     171\n",
       "3     José    32    m     5000   4444444     181\n",
       "4    Pablo    37    m     1300   5555555     192"
      ]
     },
     "execution_count": 6,
     "metadata": {},
     "output_type": "execute_result"
    }
   ],
   "source": [
    "df"
   ]
  },
  {
   "cell_type": "code",
   "execution_count": 7,
   "metadata": {},
   "outputs": [
    {
     "data": {
      "text/html": [
       "<div>\n",
       "<style scoped>\n",
       "    .dataframe tbody tr th:only-of-type {\n",
       "        vertical-align: middle;\n",
       "    }\n",
       "\n",
       "    .dataframe tbody tr th {\n",
       "        vertical-align: top;\n",
       "    }\n",
       "\n",
       "    .dataframe thead th {\n",
       "        text-align: right;\n",
       "    }\n",
       "</style>\n",
       "<table border=\"1\" class=\"dataframe\">\n",
       "  <thead>\n",
       "    <tr style=\"text-align: right;\">\n",
       "      <th></th>\n",
       "      <th>nombre</th>\n",
       "      <th>edad</th>\n",
       "      <th>sexo</th>\n",
       "      <th>salario</th>\n",
       "      <th>telefono</th>\n",
       "      <th>altura</th>\n",
       "    </tr>\n",
       "  </thead>\n",
       "  <tbody>\n",
       "    <tr>\n",
       "      <th>0</th>\n",
       "      <td>Anna</td>\n",
       "      <td>49</td>\n",
       "      <td>f</td>\n",
       "      <td>3000</td>\n",
       "      <td>1111111</td>\n",
       "      <td>167</td>\n",
       "    </tr>\n",
       "    <tr>\n",
       "      <th>1</th>\n",
       "      <td>Josefa</td>\n",
       "      <td>76</td>\n",
       "      <td>f</td>\n",
       "      <td>4000</td>\n",
       "      <td>2222222</td>\n",
       "      <td>154</td>\n",
       "    </tr>\n",
       "    <tr>\n",
       "      <th>2</th>\n",
       "      <td>Cecilia</td>\n",
       "      <td>24</td>\n",
       "      <td>f</td>\n",
       "      <td>2000</td>\n",
       "      <td>3333333</td>\n",
       "      <td>171</td>\n",
       "    </tr>\n",
       "    <tr>\n",
       "      <th>3</th>\n",
       "      <td>José</td>\n",
       "      <td>32</td>\n",
       "      <td>m</td>\n",
       "      <td>5000</td>\n",
       "      <td>4444444</td>\n",
       "      <td>181</td>\n",
       "    </tr>\n",
       "    <tr>\n",
       "      <th>4</th>\n",
       "      <td>Pablo</td>\n",
       "      <td>37</td>\n",
       "      <td>m</td>\n",
       "      <td>1300</td>\n",
       "      <td>5555555</td>\n",
       "      <td>178</td>\n",
       "    </tr>\n",
       "  </tbody>\n",
       "</table>\n",
       "</div>"
      ],
      "text/plain": [
       "    nombre  edad sexo  salario  telefono  altura\n",
       "0     Anna    49    f     3000   1111111     167\n",
       "1   Josefa    76    f     4000   2222222     154\n",
       "2  Cecilia    24    f     2000   3333333     171\n",
       "3     José    32    m     5000   4444444     181\n",
       "4    Pablo    37    m     1300   5555555     178"
      ]
     },
     "execution_count": 7,
     "metadata": {},
     "output_type": "execute_result"
    }
   ],
   "source": [
    "altura=pd.Series([167, 154, 171, 181, 178])\n",
    "df[\"altura\"]=altura\n",
    "df"
   ]
  },
  {
   "cell_type": "code",
   "execution_count": 9,
   "metadata": {},
   "outputs": [
    {
     "data": {
      "text/plain": [
       "0       Anna\n",
       "1     Josefa\n",
       "2    Cecilia\n",
       "3       José\n",
       "4      Pablo\n",
       "Name: nombre, dtype: object"
      ]
     },
     "execution_count": 9,
     "metadata": {},
     "output_type": "execute_result"
    }
   ],
   "source": [
    "# Lectura dataframe\n",
    "df[\"nombre\"] "
   ]
  },
  {
   "cell_type": "code",
   "execution_count": 10,
   "metadata": {},
   "outputs": [
    {
     "data": {
      "text/plain": [
       "0       Anna\n",
       "1     Josefa\n",
       "2    Cecilia\n",
       "3       José\n",
       "4      Pablo\n",
       "Name: nombre, dtype: object"
      ]
     },
     "execution_count": 10,
     "metadata": {},
     "output_type": "execute_result"
    }
   ],
   "source": [
    "df.nombre"
   ]
  },
  {
   "cell_type": "code",
   "execution_count": 11,
   "metadata": {},
   "outputs": [
    {
     "data": {
      "text/html": [
       "<div>\n",
       "<style scoped>\n",
       "    .dataframe tbody tr th:only-of-type {\n",
       "        vertical-align: middle;\n",
       "    }\n",
       "\n",
       "    .dataframe tbody tr th {\n",
       "        vertical-align: top;\n",
       "    }\n",
       "\n",
       "    .dataframe thead th {\n",
       "        text-align: right;\n",
       "    }\n",
       "</style>\n",
       "<table border=\"1\" class=\"dataframe\">\n",
       "  <thead>\n",
       "    <tr style=\"text-align: right;\">\n",
       "      <th></th>\n",
       "      <th>nombre</th>\n",
       "      <th>edad</th>\n",
       "      <th>sexo</th>\n",
       "      <th>salario</th>\n",
       "      <th>telefono</th>\n",
       "    </tr>\n",
       "  </thead>\n",
       "  <tbody>\n",
       "    <tr>\n",
       "      <th>0</th>\n",
       "      <td>Anna</td>\n",
       "      <td>49</td>\n",
       "      <td>f</td>\n",
       "      <td>3000</td>\n",
       "      <td>1111111</td>\n",
       "    </tr>\n",
       "    <tr>\n",
       "      <th>1</th>\n",
       "      <td>Josefa</td>\n",
       "      <td>76</td>\n",
       "      <td>f</td>\n",
       "      <td>4000</td>\n",
       "      <td>2222222</td>\n",
       "    </tr>\n",
       "    <tr>\n",
       "      <th>2</th>\n",
       "      <td>Cecilia</td>\n",
       "      <td>24</td>\n",
       "      <td>f</td>\n",
       "      <td>2000</td>\n",
       "      <td>3333333</td>\n",
       "    </tr>\n",
       "    <tr>\n",
       "      <th>3</th>\n",
       "      <td>José</td>\n",
       "      <td>32</td>\n",
       "      <td>m</td>\n",
       "      <td>5000</td>\n",
       "      <td>4444444</td>\n",
       "    </tr>\n",
       "    <tr>\n",
       "      <th>4</th>\n",
       "      <td>Pablo</td>\n",
       "      <td>37</td>\n",
       "      <td>m</td>\n",
       "      <td>1300</td>\n",
       "      <td>5555555</td>\n",
       "    </tr>\n",
       "  </tbody>\n",
       "</table>\n",
       "</div>"
      ],
      "text/plain": [
       "    nombre  edad sexo  salario  telefono\n",
       "0     Anna    49    f     3000   1111111\n",
       "1   Josefa    76    f     4000   2222222\n",
       "2  Cecilia    24    f     2000   3333333\n",
       "3     José    32    m     5000   4444444\n",
       "4    Pablo    37    m     1300   5555555"
      ]
     },
     "execution_count": 11,
     "metadata": {},
     "output_type": "execute_result"
    }
   ],
   "source": [
    "# Eliminacion columna\n",
    "del df['altura']\n",
    "df"
   ]
  },
  {
   "cell_type": "code",
   "execution_count": 13,
   "metadata": {},
   "outputs": [],
   "source": [
    "# Guardar dataframe\n",
    "df.to_csv(\"prueba_dataframe.csv\")"
   ]
  }
 ],
 "metadata": {
  "kernelspec": {
   "display_name": "ent_mining",
   "language": "python",
   "name": "python3"
  },
  "language_info": {
   "codemirror_mode": {
    "name": "ipython",
    "version": 3
   },
   "file_extension": ".py",
   "mimetype": "text/x-python",
   "name": "python",
   "nbconvert_exporter": "python",
   "pygments_lexer": "ipython3",
   "version": "3.10.11"
  }
 },
 "nbformat": 4,
 "nbformat_minor": 2
}
