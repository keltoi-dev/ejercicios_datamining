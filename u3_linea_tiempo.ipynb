{
 "cells": [
  {
   "cell_type": "code",
   "execution_count": 3,
   "metadata": {},
   "outputs": [
    {
     "name": "stdout",
     "output_type": "stream",
     "text": [
      "2024-06-25 00:02:20.806920\n",
      "2024-06-24 21:02:20.806920\n",
      "24\n",
      "6\n",
      "2\n",
      "20\n",
      "806920\n",
      "1\n",
      "9999\n"
     ]
    }
   ],
   "source": [
    "#Requisitos fechas, datos de hoy\n",
    "###############################################################\n",
    "#### USO datetime\n",
    "#### https://docs.python.org/3.8/library/datetime.html\n",
    "#### (proporciona clases y objetos)\n",
    "###############################################################\n",
    "# from datetime import datetime, date, time, timedelta\n",
    "import datetime\n",
    "import calendar\n",
    "\n",
    "datetime.datetime.now()\n",
    "print(datetime.datetime.utcnow())\n",
    "print(datetime.datetime.now())\n",
    "print(datetime.datetime.now().day)\n",
    "print(datetime.datetime.now().month)\n",
    "print(datetime.datetime.now().minute)\n",
    "print(datetime.datetime.now().second)\n",
    "print(datetime.datetime.now().microsecond)\n",
    "print(datetime.MINYEAR)\n",
    "print(datetime.MAXYEAR)"
   ]
  },
  {
   "cell_type": "code",
   "execution_count": 4,
   "metadata": {},
   "outputs": [
    {
     "name": "stdout",
     "output_type": "stream",
     "text": [
      "06\n",
      "21:02:36--24/06/24\n"
     ]
    }
   ],
   "source": [
    "# USO TODO LO QUE PUEDO USAR CON time\n",
    "print(datetime.datetime.now().strftime(\"%m\"))\n",
    "print(datetime.datetime.today().strftime(\"%H:%M:%S--%d/%m/%y\"))"
   ]
  },
  {
   "cell_type": "code",
   "execution_count": 5,
   "metadata": {},
   "outputs": [
    {
     "name": "stdout",
     "output_type": "stream",
     "text": [
      "     June 2024\n",
      "Mo Tu We Th Fr Sa Su\n",
      "                1  2\n",
      " 3  4  5  6  7  8  9\n",
      "10 11 12 13 14 15 16\n",
      "17 18 19 20 21 22 23\n",
      "24 25 26 27 28 29 30\n",
      "\n"
     ]
    }
   ],
   "source": [
    "# Obtener calendario\n",
    "año = datetime.datetime.today().year\n",
    "mes = datetime.datetime.today().month\n",
    "calendario_mes = calendar.month(año, mes)\n",
    "print(calendario_mes)"
   ]
  },
  {
   "cell_type": "code",
   "execution_count": 6,
   "metadata": {},
   "outputs": [
    {
     "name": "stdout",
     "output_type": "stream",
     "text": [
      "2024-06-24\n",
      "5 days, 0:00:00\n",
      "2024-06-19\n"
     ]
    }
   ],
   "source": [
    "# Restar fechas\n",
    "hoy = datetime.date.today()\n",
    "hace5 = datetime.timedelta(days=5)\n",
    "# mañana = hoy + datetime.timedelta(days=1)\n",
    "# diferencia_en_dias = mañana – hoy\n",
    "print(hoy)\n",
    "print(hace5)\n",
    "print(hoy - hace5)  # Resto 5 días"
   ]
  },
  {
   "cell_type": "code",
   "execution_count": 7,
   "metadata": {},
   "outputs": [],
   "source": [
    "# Clase TimeStamp\n",
    "import pandas as pd\n",
    "import numpy as np"
   ]
  },
  {
   "cell_type": "code",
   "execution_count": 8,
   "metadata": {},
   "outputs": [
    {
     "data": {
      "text/plain": [
       "Timestamp('2024-04-14 00:00:00')"
      ]
     },
     "execution_count": 8,
     "metadata": {},
     "output_type": "execute_result"
    }
   ],
   "source": [
    "# Creamos objeto Timestamp\n",
    "fecha1=pd.Timestamp('2024-4-14')\n",
    "fecha1"
   ]
  },
  {
   "cell_type": "code",
   "execution_count": 9,
   "metadata": {},
   "outputs": [
    {
     "data": {
      "text/plain": [
       "Timestamp('2024-04-14 21:15:00')"
      ]
     },
     "execution_count": 9,
     "metadata": {},
     "output_type": "execute_result"
    }
   ],
   "source": [
    "fecha_hora=pd.Timestamp('2024-4-14 21:15')\n",
    "fecha_hora"
   ]
  },
  {
   "cell_type": "code",
   "execution_count": 10,
   "metadata": {},
   "outputs": [
    {
     "data": {
      "text/plain": [
       "Timestamp('2024-06-24 21:15:00')"
      ]
     },
     "execution_count": 10,
     "metadata": {},
     "output_type": "execute_result"
    }
   ],
   "source": [
    "hora=pd.Timestamp('21:15')\n",
    "hora"
   ]
  },
  {
   "cell_type": "code",
   "execution_count": 11,
   "metadata": {},
   "outputs": [
    {
     "data": {
      "text/plain": [
       "Timestamp('2024-06-24 21:04:53.518243')"
      ]
     },
     "execution_count": 11,
     "metadata": {},
     "output_type": "execute_result"
    }
   ],
   "source": [
    "actual=pd.Timestamp('now')\n",
    "actual"
   ]
  },
  {
   "cell_type": "code",
   "execution_count": 12,
   "metadata": {},
   "outputs": [
    {
     "data": {
      "text/plain": [
       "datetime.datetime(2024, 4, 9, 0, 0)"
      ]
     },
     "execution_count": 12,
     "metadata": {},
     "output_type": "execute_result"
    }
   ],
   "source": [
    "# Diferencia de tiempo\n",
    "hoy = datetime.datetime(2024, 4, 8)\n",
    "mañana = hoy + pd.Timedelta(days=1)\n",
    "mañana"
   ]
  },
  {
   "cell_type": "code",
   "execution_count": 13,
   "metadata": {},
   "outputs": [],
   "source": [
    "fecha1=datetime.datetime(2024, 4, 8)\n",
    "fecha2=datetime.datetime(2024, 4, 11)"
   ]
  },
  {
   "cell_type": "code",
   "execution_count": 14,
   "metadata": {},
   "outputs": [
    {
     "data": {
      "text/plain": [
       "datetime.timedelta(days=3)"
      ]
     },
     "execution_count": 14,
     "metadata": {},
     "output_type": "execute_result"
    }
   ],
   "source": [
    "fecha2-fecha1"
   ]
  },
  {
   "cell_type": "code",
   "execution_count": 15,
   "metadata": {},
   "outputs": [
    {
     "data": {
      "text/plain": [
       "2024-04-08    0.324162\n",
       "2024-04-11    1.624540\n",
       "dtype: float64"
      ]
     },
     "execution_count": 15,
     "metadata": {},
     "output_type": "execute_result"
    }
   ],
   "source": [
    "# Series de tiempo\n",
    "# Indice DatetimeIndex\n",
    "fecha1=datetime.datetime(2024, 4, 8)\n",
    "fecha2=datetime.datetime(2024, 4, 11)\n",
    "\n",
    "fechas_esp=[fecha1, fecha2]\n",
    "datos_aleatorios=pd.Series(np.random.randn(2), fechas_esp)      #np.random.randn(n) genera n valores aleatorios con distribución Gausiana de media cero y varianza 1\n",
    "datos_aleatorios"
   ]
  },
  {
   "cell_type": "code",
   "execution_count": 18,
   "metadata": {},
   "outputs": [
    {
     "data": {
      "text/plain": [
       "2024-04-08    0.022642\n",
       "2024-04-09    1.134915\n",
       "2024-04-10    1.034344\n",
       "2024-04-11   -1.539225\n",
       "2024-04-12    0.679296\n",
       "2024-04-13    0.617179\n",
       "2024-04-14    0.885919\n",
       "Freq: D, dtype: float64"
      ]
     },
     "execution_count": 18,
     "metadata": {},
     "output_type": "execute_result"
    }
   ],
   "source": [
    "# Creamos serie de días a partir de una fecha\n",
    "periodos = pd.date_range(fecha1, periods=7)\n",
    "fechas = pd.Series(np.random.randn(7), index=periodos)\n",
    "fechas"
   ]
  },
  {
   "cell_type": "code",
   "execution_count": 19,
   "metadata": {},
   "outputs": [
    {
     "data": {
      "text/plain": [
       "2024-04-08    0.346804\n",
       "2024-04-09         NaN\n",
       "2024-04-10         NaN\n",
       "2024-04-11    0.085316\n",
       "2024-04-12         NaN\n",
       "2024-04-13         NaN\n",
       "2024-04-14         NaN\n",
       "dtype: float64"
      ]
     },
     "execution_count": 19,
     "metadata": {},
     "output_type": "execute_result"
    }
   ],
   "source": [
    "# Alineación de datos\n",
    "datos_aleatorios+fechas"
   ]
  },
  {
   "cell_type": "code",
   "execution_count": 20,
   "metadata": {},
   "outputs": [
    {
     "data": {
      "text/plain": [
       "2024-04-14 21:15:00    0.054821\n",
       "2024-04-14 21:16:00    0.252639\n",
       "2024-04-14 21:17:00   -0.464285\n",
       "2024-04-14 21:18:00    1.209681\n",
       "2024-04-14 21:19:00    0.896606\n",
       "2024-04-14 21:20:00    1.170298\n",
       "2024-04-14 21:21:00    0.327527\n",
       "2024-04-14 21:22:00   -0.353180\n",
       "2024-04-14 21:23:00   -1.079652\n",
       "2024-04-14 21:24:00   -0.590738\n",
       "2024-04-14 21:25:00    1.727772\n",
       "2024-04-14 21:26:00   -0.543299\n",
       "2024-04-14 21:27:00    1.034057\n",
       "2024-04-14 21:28:00    0.639006\n",
       "2024-04-14 21:29:00   -0.958228\n",
       "2024-04-14 21:30:00   -0.762542\n",
       "2024-04-14 21:31:00   -0.323955\n",
       "2024-04-14 21:32:00    1.073938\n",
       "2024-04-14 21:33:00   -0.201018\n",
       "2024-04-14 21:34:00   -1.152108\n",
       "2024-04-14 21:35:00   -0.515422\n",
       "Freq: min, dtype: float64"
      ]
     },
     "execution_count": 20,
     "metadata": {},
     "output_type": "execute_result"
    }
   ],
   "source": [
    "# Series de frecuencia específica \n",
    "fecha_hora1=pd.Timestamp('2024-4-14 21:15')\n",
    "fecha_hora2=pd.Timestamp('2024-4-14 21:35')\n",
    "\n",
    "periodos = pd.date_range(fecha_hora1, fecha_hora2, freq='min')      #rango de valores ---> date_range\n",
    "fechas = pd.Series(np.random.randn(21), index=periodos)\n",
    "fechas"
   ]
  },
  {
   "cell_type": "code",
   "execution_count": 21,
   "metadata": {},
   "outputs": [
    {
     "data": {
      "text/plain": [
       "Timestamp('2024-04-06 00:00:00')"
      ]
     },
     "execution_count": 21,
     "metadata": {},
     "output_type": "execute_result"
    }
   ],
   "source": [
    "# Compensaciones de fechas\n",
    "# Un día luego de un viernes\n",
    "d = datetime.datetime(2024, 4, 5)\n",
    "do = pd.DateOffset(days = 1)\n",
    "d + do"
   ]
  },
  {
   "cell_type": "code",
   "execution_count": 22,
   "metadata": {},
   "outputs": [
    {
     "data": {
      "text/plain": [
       "Timestamp('2024-04-08 00:00:00')"
      ]
     },
     "execution_count": 22,
     "metadata": {},
     "output_type": "execute_result"
    }
   ],
   "source": [
    "# Un día luego de un viernes solicitando día laborable\n",
    "from pandas.tseries.offsets import *\n",
    "\n",
    "d = datetime.datetime(2024, 4, 5)\n",
    "do = pd.DateOffset(days = 1)\n",
    "d + BusinessDay()"
   ]
  },
  {
   "cell_type": "code",
   "execution_count": 23,
   "metadata": {},
   "outputs": [
    {
     "data": {
      "text/plain": [
       "DatetimeIndex(['2024-04-04', '2024-04-11', '2024-04-18', '2024-04-25'], dtype='datetime64[ns]', freq='W-THU')"
      ]
     },
     "execution_count": 23,
     "metadata": {},
     "output_type": "execute_result"
    }
   ],
   "source": [
    "# Intervalos especificos\n",
    "fecha_hora1=pd.Timestamp('2024-4-1')\n",
    "fecha_hora2=pd.Timestamp('2024-4-30')\n",
    "\n",
    "periodos = pd.date_range(fecha_hora1, fecha_hora2, freq='W-THU')\n",
    "periodos"
   ]
  },
  {
   "cell_type": "code",
   "execution_count": 24,
   "metadata": {},
   "outputs": [
    {
     "data": {
      "text/plain": [
       "DatetimeIndex(['2024-01-01', '2024-04-01', '2024-07-01', '2024-10-01'], dtype='datetime64[ns]', freq='BQS-JAN')"
      ]
     },
     "execution_count": 24,
     "metadata": {},
     "output_type": "execute_result"
    }
   ],
   "source": [
    "# Días de negocio de inicio de trimestre (quartely) del año 2024\n",
    "\n",
    "fecha_hora1=pd.Timestamp('2024-1-1')\n",
    "fecha_hora2=pd.Timestamp('2024-12-30')\n",
    "\n",
    "periodos = pd.date_range(fecha_hora1, fecha_hora2, freq='BQS')\n",
    "periodos"
   ]
  }
 ],
 "metadata": {
  "kernelspec": {
   "display_name": "ent_mining",
   "language": "python",
   "name": "python3"
  },
  "language_info": {
   "codemirror_mode": {
    "name": "ipython",
    "version": 3
   },
   "file_extension": ".py",
   "mimetype": "text/x-python",
   "name": "python",
   "nbconvert_exporter": "python",
   "pygments_lexer": "ipython3",
   "version": "3.10.11"
  }
 },
 "nbformat": 4,
 "nbformat_minor": 2
}
