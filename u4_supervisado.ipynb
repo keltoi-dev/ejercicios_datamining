{
 "cells": [
  {
   "cell_type": "markdown",
   "metadata": {},
   "source": [
    "Regresion lineal"
   ]
  },
  {
   "cell_type": "code",
   "execution_count": 4,
   "metadata": {},
   "outputs": [
    {
     "name": "stdout",
     "output_type": "stream",
     "text": [
      "[1.81, 2.58, 3.26, 4.27, 5.89, 6.42, 7.62, 8.82, 9.05, 10.66, 11.11, 12.11, 13.95, 14.97, 15.08, 16.06, 17.57, 18.45, 19.7, 20.37]\n",
      "[13.16, 24.56, 37.0, 48.86, 60.63, 72.68, 84.99, 96.54, 108.85, 121.18, 133.0, 144.63, 157.07, 168.92, 180.71, 193.04, 204.39, 217.12, 228.72, 241.29]\n"
     ]
    }
   ],
   "source": [
    "import pandas as pd\n",
    "import numpy as np\n",
    "dat_csv  = pd.read_csv('datos4.csv', encoding = \"ISO-8859-1\")\n",
    "datos_x = dat_csv.x\n",
    "datos_y = dat_csv.y\n",
    "x = []\n",
    "y = []\n",
    "for i in dat_csv.x:\n",
    "    x.append(i)\n",
    "for j in dat_csv.y:\n",
    "    y.append(j)\n",
    "print(x)    \n",
    "print(y)\n",
    "\n",
    "X = np.array(x)\n",
    "Y = np.array(y)"
   ]
  },
  {
   "cell_type": "code",
   "execution_count": 5,
   "metadata": {},
   "outputs": [
    {
     "name": "stdout",
     "output_type": "stream",
     "text": [
      "[[ 1.81]\n",
      " [ 2.58]\n",
      " [ 3.26]\n",
      " [ 4.27]\n",
      " [ 5.89]\n",
      " [ 6.42]\n",
      " [ 7.62]\n",
      " [ 8.82]\n",
      " [ 9.05]\n",
      " [10.66]\n",
      " [11.11]\n",
      " [12.11]\n",
      " [13.95]\n",
      " [14.97]\n",
      " [15.08]\n",
      " [16.06]]\n",
      "[[ 13.16]\n",
      " [ 24.56]\n",
      " [ 37.  ]\n",
      " [ 48.86]\n",
      " [ 60.63]\n",
      " [ 72.68]\n",
      " [ 84.99]\n",
      " [ 96.54]\n",
      " [108.85]\n",
      " [121.18]\n",
      " [133.  ]\n",
      " [144.63]\n",
      " [157.07]\n",
      " [168.92]\n",
      " [180.71]\n",
      " [193.04]]\n"
     ]
    }
   ],
   "source": [
    "# Creando datos de entrenamiento\n",
    "X,Y\n",
    "datos_entrenamiento = int(0.8 * len(X))\n",
    "datos_prueba = len(X) - datos_entrenamiento\n",
    "\n",
    "#ENTRENAMIENTO\n",
    "X_entrenamiento = X[:datos_entrenamiento].reshape((datos_entrenamiento,1))\n",
    "print(X_entrenamiento)\n",
    "Y_entrenamiento = Y[:datos_entrenamiento].reshape((datos_entrenamiento,1))\n",
    "print(Y_entrenamiento)\n",
    "#PRUEBA\n",
    "X_prueba = X[datos_entrenamiento:].reshape((datos_prueba,1))\n",
    "Y_prueba = Y[datos_entrenamiento:].reshape((datos_prueba,1))"
   ]
  },
  {
   "cell_type": "code",
   "execution_count": 6,
   "metadata": {},
   "outputs": [
    {
     "ename": "ModuleNotFoundError",
     "evalue": "No module named 'sklearn'",
     "output_type": "error",
     "traceback": [
      "\u001b[1;31m---------------------------------------------------------------------------\u001b[0m",
      "\u001b[1;31mModuleNotFoundError\u001b[0m                       Traceback (most recent call last)",
      "Cell \u001b[1;32mIn[6], line 2\u001b[0m\n\u001b[0;32m      1\u001b[0m \u001b[38;5;66;03m# Regresion lineal\u001b[39;00m\n\u001b[1;32m----> 2\u001b[0m \u001b[38;5;28;01mfrom\u001b[39;00m \u001b[38;5;21;01msklearn\u001b[39;00m \u001b[38;5;28;01mimport\u001b[39;00m linear_model\n\u001b[0;32m      3\u001b[0m \u001b[38;5;28;01mimport\u001b[39;00m \u001b[38;5;21;01mmatplotlib\u001b[39;00m\u001b[38;5;21;01m.\u001b[39;00m\u001b[38;5;21;01mpyplot\u001b[39;00m \u001b[38;5;28;01mas\u001b[39;00m \u001b[38;5;21;01mplt\u001b[39;00m\n\u001b[0;32m      5\u001b[0m \u001b[38;5;66;03m# Creamos un objeto de regresión lineal\u001b[39;00m\n",
      "\u001b[1;31mModuleNotFoundError\u001b[0m: No module named 'sklearn'"
     ]
    }
   ],
   "source": [
    "# Regresion lineal\n",
    "from sklearn import linear_model\n",
    "import matplotlib.pyplot as plt\n",
    "\n",
    "# Creamos un objeto de regresión lineal\n",
    "linear_regressor = linear_model.LinearRegression()\n",
    "\n",
    "# Ajustamos la regresión a los datos de entrenamiento\n",
    "linear_regressor.fit(X_entrenamiento, Y_entrenamiento)\n",
    "\n",
    "# Y a partir de datos de regresión encontrados\n",
    "Y_predicha_de_entrenamiento = linear_regressor.predict(X_entrenamiento)\n",
    "\n",
    "plt.figure()\n",
    "plt.scatter(X_entrenamiento, Y_entrenamiento, color='red')\n",
    "plt.plot(X_entrenamiento, Y_predicha_de_entrenamiento, color='black', linewidth=2)\n",
    "plt.title('Datos de entrenamiento')\n",
    "plt.show"
   ]
  },
  {
   "cell_type": "code",
   "execution_count": null,
   "metadata": {},
   "outputs": [],
   "source": [
    "# Realizamos la X_prueba\n",
    "Y_predicha_de_prueba = linear_regressor.predict(X_prueba)\n",
    "plt.figure()\n",
    "plt.scatter(X_prueba, Y_prueba, color='red')\n",
    "plt.plot(X_prueba, Y_predicha_de_prueba, color='black', linewidth=2)\n",
    "plt.title('Datos de prueba')\n",
    "plt.show"
   ]
  },
  {
   "cell_type": "code",
   "execution_count": null,
   "metadata": {},
   "outputs": [],
   "source": [
    "# Evaluamos las metricas de Scikit-learn\n",
    "import sklearn.metrics as sm\n",
    "print(\"Error absoluto medio =\", round(sm.mean_absolute_error(Y_prueba, Y_predicha_de_prueba), 2)) \n",
    "print(\"Error cuadratico medio =\", round(sm.mean_squared_error(Y_prueba, Y_predicha_de_prueba), 2)) \n",
    "print(\"Error absoluto mediano =\", round(sm.median_absolute_error(Y_prueba, Y_predicha_de_prueba), 2)) \n",
    "print(\"Puntuación de varianza explicada =\", round(sm.explained_variance_score(Y_prueba, Y_predicha_de_prueba), 2)) \n",
    "print(\"Puntuación R2 =\", round(sm.r2_score(Y_prueba, Y_predicha_de_prueba), 2))"
   ]
  },
  {
   "cell_type": "code",
   "execution_count": null,
   "metadata": {},
   "outputs": [],
   "source": [
    "# Regresion contraida\n",
    "from sklearn import linear_model\n",
    "regresion_ridge = linear_model.Ridge(alpha=0.01, fit_intercept=True, max_iter=10000)\n",
    "regresion_ridge.fit(X_prueba, Y_prueba)\n",
    "\n",
    "Y_predicha_de_prueba = regresion_ridge.predict(X_prueba)\n",
    "\n",
    "\n",
    "print(\"Error absoluto medio =\", round(sm.mean_absolute_error(Y_prueba, Y_predicha_de_prueba), 2)) \n",
    "print(\"Error cuadratico medio =\", round(sm.mean_squared_error(Y_prueba, Y_predicha_de_prueba), 2)) \n",
    "print(\"Puntuación de varianza explicada =\", round(sm.explained_variance_score(Y_prueba, Y_predicha_de_prueba), 2)) \n",
    "print(\"Puntuación R2 =\", round(sm.r2_score(Y_prueba, Y_predicha_de_prueba), 2))"
   ]
  },
  {
   "cell_type": "code",
   "execution_count": null,
   "metadata": {},
   "outputs": [],
   "source": [
    "# Regresion Logistica\n",
    "# PASO 1\n",
    "import numpy as np\n",
    "from sklearn import linear_model \n",
    "from sklearn import model_selection\n",
    "from sklearn.metrics import classification_report\n",
    "from sklearn.metrics import confusion_matrix\n",
    "from sklearn.metrics import accuracy_score\n",
    "import matplotlib.pyplot as plt\n",
    "\n",
    "X = np.array([[16,2], [3,1], [2,7], [13,4], [3,4], [12,5], [15,6], [4,6]])\n",
    "plt.figure()\n",
    "plt.scatter(X[:,0],X[:,1])\n",
    "plt.show()"
   ]
  },
  {
   "cell_type": "code",
   "execution_count": null,
   "metadata": {},
   "outputs": [],
   "source": [
    "# PASO 2 - Agrupar\n",
    "Y = [1, 0, 0, 1, 0, 1, 1, 0]\n",
    "clase0 = np.array([X[i] for i in range(len(X)) if Y[i]==0])\n",
    "clase1 = np.array([X[i] for i in range(len(X)) if Y[i]==1])\n",
    "print(\"Clase0: \", clase0)\n",
    "print(\"Clase1: \", clase1)"
   ]
  },
  {
   "cell_type": "code",
   "execution_count": null,
   "metadata": {},
   "outputs": [],
   "source": [
    "# PASO 3 - Clasificador\n",
    "clasificador = linear_model.LogisticRegression(solver='lbfgs', C=100)\n",
    "clasificador.fit(X, Y)"
   ]
  },
  {
   "cell_type": "code",
   "execution_count": null,
   "metadata": {},
   "outputs": [],
   "source": [
    "# PASO4 - Prediccion\n",
    "prediccion = clasificador.predict(X)\n",
    "print(prediccion)\n",
    "\n",
    "print(clasificador.score(X,Y))"
   ]
  },
  {
   "cell_type": "code",
   "execution_count": null,
   "metadata": {},
   "outputs": [],
   "source": [
    "# PASO 5 - Clasificacion de prueba\n",
    "Xn = np.array([[6,4], [20,7], [4,17]])\n",
    "Yn = clasificador.predict(Xn)\n",
    "print(Yn)"
   ]
  },
  {
   "cell_type": "code",
   "execution_count": null,
   "metadata": {},
   "outputs": [],
   "source": [
    "# PASO 6 - Modelo + Test\n",
    "Xs = np.concatenate((X, Xn), axis=0)\n",
    "Ys = np.append(Y , Yn)\n",
    "\n",
    "x_min, x_max = min(Xs[:, 0]) - 1.0, max(Xs[:, 0]) + 1.0\n",
    "y_min, y_max = min(Xs[:, 1]) - 1.0, max(Xs[:, 1]) + 1.0\n",
    "\n",
    "print(Xs)\n",
    "print(Xs[:, 0])\n",
    "print(Xs[:, 1])"
   ]
  },
  {
   "cell_type": "code",
   "execution_count": null,
   "metadata": {},
   "outputs": [],
   "source": [
    "# PASO 7 - Creamos la malla meshgrid()\n",
    "step_size = 0.01\n",
    "\n",
    "valor_x, valor_y = np.meshgrid(np.arange(x_min, x_max, step_size), np.arange(y_min, y_max, step_size))\n",
    "\n",
    "malla_de_puntos = clasificador.predict(np.c_[valor_x.ravel(), valor_y.ravel()])"
   ]
  },
  {
   "cell_type": "code",
   "execution_count": null,
   "metadata": {},
   "outputs": [],
   "source": [
    "x=[1, 2, 3]\n",
    "y=[4, 5, 6]\n",
    "np.c_[x, y]"
   ]
  },
  {
   "cell_type": "code",
   "execution_count": null,
   "metadata": {},
   "outputs": [],
   "source": [
    "# PASO 8 - Creamos mapa color pcolormesh()\n",
    "malla_de_puntos = malla_de_puntos.reshape(valor_x.shape)\n",
    "plt.figure()\n",
    "plt.pcolormesh(valor_x, valor_y, malla_de_puntos, cmap=plt.cm.gray)\n",
    "print(valor_x.shape)"
   ]
  },
  {
   "cell_type": "code",
   "execution_count": null,
   "metadata": {},
   "outputs": [],
   "source": [
    "x = np.array([1, 5, 10])\n",
    "y = np.array([1, 4, 8])\n",
    "z = np.linspace(0, 255, 9).reshape(3, 3)\n",
    "print(z)\n",
    "plt.pcolormesh(x, y, z, cmap = \"PuRd\");\n",
    "plt.colorbar();"
   ]
  },
  {
   "cell_type": "code",
   "execution_count": null,
   "metadata": {},
   "outputs": [],
   "source": [
    "# PASO 9 - Ponemos los puntos sobre el grafico de malla\n",
    "malla_de_puntos = malla_de_puntos.reshape(valor_x.shape)\n",
    "plt.figure()\n",
    "plt.pcolormesh(valor_x, valor_y, malla_de_puntos, cmap=plt.cm.gray)\n",
    "\n",
    "plt.scatter(X[:, 0], X[:, 1], c=Y, s=80, edgecolors='red', linewidth=1, cmap=plt.cm.Paired)\n",
    "plt.scatter(Xn[:, 0], Xn[:, 1], c=clasificador.predict(Xn), s=180, edgecolors='blue', linewidth=2, cmap=plt.cm.Paired)\n",
    "\n",
    "plt.show()"
   ]
  }
 ],
 "metadata": {
  "kernelspec": {
   "display_name": "Python 3 (ipykernel)",
   "language": "python",
   "name": "python3"
  },
  "language_info": {
   "codemirror_mode": {
    "name": "ipython",
    "version": 3
   },
   "file_extension": ".py",
   "mimetype": "text/x-python",
   "name": "python",
   "nbconvert_exporter": "python",
   "pygments_lexer": "ipython3",
   "version": "3.10.11"
  }
 },
 "nbformat": 4,
 "nbformat_minor": 4
}
