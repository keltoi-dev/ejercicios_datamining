


import pandas as pd
import numpy as np
dat_csv  = pd.read_csv('datos4.csv', encoding = "ISO-8859-1")
datos_x = dat_csv.x
datos_y = dat_csv.y
x = []
y = []
for i in dat_csv.x:
    x.append(i)
for j in dat_csv.y:
    y.append(j)
print(x)    
print(y)

X = np.array(x)
Y = np.array(y)


# Creando datos de entrenamiento
X,Y
datos_entrenamiento = int(0.8 * len(X))
datos_prueba = len(X) - datos_entrenamiento

#ENTRENAMIENTO
X_entrenamiento = X[:datos_entrenamiento].reshape((datos_entrenamiento,1))
print(X_entrenamiento)
Y_entrenamiento = Y[:datos_entrenamiento].reshape((datos_entrenamiento,1))
print(Y_entrenamiento)
#PRUEBA
X_prueba = X[datos_entrenamiento:].reshape((datos_prueba,1))
Y_prueba = Y[datos_entrenamiento:].reshape((datos_prueba,1))


# Regresion lineal
from sklearn import linear_model
import matplotlib.pyplot as plt

# Creamos un objeto de regresión lineal
linear_regressor = linear_model.LinearRegression()

# Ajustamos la regresión a los datos de entrenamiento
linear_regressor.fit(X_entrenamiento, Y_entrenamiento)

# Y a partir de datos de regresión encontrados
Y_predicha_de_entrenamiento = linear_regressor.predict(X_entrenamiento)

plt.figure()
plt.scatter(X_entrenamiento, Y_entrenamiento, color='red')
plt.plot(X_entrenamiento, Y_predicha_de_entrenamiento, color='black', linewidth=2)
plt.title('Datos de entrenamiento')
plt.show


# Realizamos la X_prueba
Y_predicha_de_prueba = linear_regressor.predict(X_prueba)
plt.figure()
plt.scatter(X_prueba, Y_prueba, color='red')
plt.plot(X_prueba, Y_predicha_de_prueba, color='black', linewidth=2)
plt.title('Datos de prueba')
plt.show


# Evaluamos las metricas de Scikit-learn
import sklearn.metrics as sm
print("Error absoluto medio =", round(sm.mean_absolute_error(Y_prueba, Y_predicha_de_prueba), 2)) 
print("Error cuadratico medio =", round(sm.mean_squared_error(Y_prueba, Y_predicha_de_prueba), 2)) 
print("Error absoluto mediano =", round(sm.median_absolute_error(Y_prueba, Y_predicha_de_prueba), 2)) 
print("Puntuación de varianza explicada =", round(sm.explained_variance_score(Y_prueba, Y_predicha_de_prueba), 2)) 
print("Puntuación R2 =", round(sm.r2_score(Y_prueba, Y_predicha_de_prueba), 2))


# Regresion contraida
from sklearn import linear_model
regresion_ridge = linear_model.Ridge(alpha=0.01, fit_intercept=True, max_iter=10000)
regresion_ridge.fit(X_prueba, Y_prueba)

Y_predicha_de_prueba = regresion_ridge.predict(X_prueba)


print("Error absoluto medio =", round(sm.mean_absolute_error(Y_prueba, Y_predicha_de_prueba), 2)) 
print("Error cuadratico medio =", round(sm.mean_squared_error(Y_prueba, Y_predicha_de_prueba), 2)) 
print("Puntuación de varianza explicada =", round(sm.explained_variance_score(Y_prueba, Y_predicha_de_prueba), 2)) 
print("Puntuación R2 =", round(sm.r2_score(Y_prueba, Y_predicha_de_prueba), 2))


# Regresion Logistica
# PASO 1
import numpy as np
from sklearn import linear_model 
from sklearn import model_selection
from sklearn.metrics import classification_report
from sklearn.metrics import confusion_matrix
from sklearn.metrics import accuracy_score
import matplotlib.pyplot as plt

X = np.array([[16,2], [3,1], [2,7], [13,4], [3,4], [12,5], [15,6], [4,6]])
plt.figure()
plt.scatter(X[:,0],X[:,1])
plt.show()


# PASO 2 - Agrupar
Y = [1, 0, 0, 1, 0, 1, 1, 0]
clase0 = np.array([X[i] for i in range(len(X)) if Y[i]==0])
clase1 = np.array([X[i] for i in range(len(X)) if Y[i]==1])
print("Clase0: ", clase0)
print("Clase1: ", clase1)


# PASO 3 - Clasificador
clasificador = linear_model.LogisticRegression(solver='lbfgs', C=100)
clasificador.fit(X, Y)


# PASO4 - Prediccion
prediccion = clasificador.predict(X)
print(prediccion)

print(clasificador.score(X,Y))


# PASO 5 - Clasificacion de prueba
Xn = np.array([[6,4], [20,7], [4,17]])
Yn = clasificador.predict(Xn)
print(Yn)


# PASO 6 - Modelo + Test
Xs = np.concatenate((X, Xn), axis=0)
Ys = np.append(Y , Yn)

x_min, x_max = min(Xs[:, 0]) - 1.0, max(Xs[:, 0]) + 1.0
y_min, y_max = min(Xs[:, 1]) - 1.0, max(Xs[:, 1]) + 1.0

print(Xs)
print(Xs[:, 0])
print(Xs[:, 1])


# PASO 7 - Creamos la malla meshgrid()
step_size = 0.01

valor_x, valor_y = np.meshgrid(np.arange(x_min, x_max, step_size), np.arange(y_min, y_max, step_size))

malla_de_puntos = clasificador.predict(np.c_[valor_x.ravel(), valor_y.ravel()])


x=[1, 2, 3]
y=[4, 5, 6]
np.c_[x, y]


# PASO 8 - Creamos mapa color pcolormesh()
malla_de_puntos = malla_de_puntos.reshape(valor_x.shape)
plt.figure()
plt.pcolormesh(valor_x, valor_y, malla_de_puntos, cmap=plt.cm.gray)
print(valor_x.shape)


x = np.array([1, 5, 10])
y = np.array([1, 4, 8])
z = np.linspace(0, 255, 9).reshape(3, 3)
print(z)
plt.pcolormesh(x, y, z, cmap = "PuRd");
plt.colorbar();


# PASO 9 - Ponemos los puntos sobre el grafico de malla
malla_de_puntos = malla_de_puntos.reshape(valor_x.shape)
plt.figure()
plt.pcolormesh(valor_x, valor_y, malla_de_puntos, cmap=plt.cm.gray)

plt.scatter(X[:, 0], X[:, 1], c=Y, s=80, edgecolors='red', linewidth=1, cmap=plt.cm.Paired)
plt.scatter(Xn[:, 0], Xn[:, 1], c=clasificador.predict(Xn), s=180, edgecolors='blue', linewidth=2, cmap=plt.cm.Paired)

plt.show()
